{
 "cells": [
  {
   "cell_type": "markdown",
   "id": "35899ffd",
   "metadata": {},
   "source": [
    "# Investigating the Airbnb Seattle Dataset between 2016 and 2017 "
   ]
  },
  {
   "cell_type": "markdown",
   "id": "56c5be56",
   "metadata": {},
   "source": [
    "## Understading the Business and the Datasets"
   ]
  },
  {
   "cell_type": "markdown",
   "id": "3645c2b5",
   "metadata": {},
   "source": [
    "Airbnb have offered a more unique and personalized way to its guests and hosts since 2008. The Airbnb Seattle dataset is part the Airbnb Inside initiative and describes the listing activity of homestays in Seattle, WA. The dataset contains the activities in Seattle between 2016 and 2017. \n",
    "The dataset includes 3 separate datasets. These are listings, reviews and calendar. \n",
    "- The Listings contain full descriptions and average review score.\n",
    "- The Reviews contain unique id for each reviewer and detailed comments.\n",
    "- The Calendar contain listing id and the price and availability for that day. \n",
    "\n",
    "#### Acknowledgements\n",
    "This dataset is part of the Airbnb Inside and it is obtained from Kaggle.\n",
    " "
   ]
  },
  {
   "cell_type": "code",
   "execution_count": null,
   "id": "8bbfdbb8",
   "metadata": {},
   "outputs": [],
   "source": []
  },
  {
   "cell_type": "markdown",
   "id": "4cc2d4b1",
   "metadata": {},
   "source": [
    "### Questions:\n",
    "\n",
    "1. When do people visit Seattle mostly? Is there a particular month or a season that the Airbnb prices are high in Seattle?\n",
    "\n",
    "2. Does a neighbourhood affect the listing price? What are the most expensive listing price and the least expensive listing price in Seattle neighbourhoods?\n",
    "\n",
    "3. Can we predict a listing price in Seattle Airbnb? What are the key variables for predicting a listing price?"
   ]
  },
  {
   "cell_type": "code",
   "execution_count": 46,
   "id": "e65f378d",
   "metadata": {},
   "outputs": [],
   "source": [
    "# Importing the libraries \n",
    "import numpy as np\n",
    "import pandas as pd\n",
    "import matplotlib.pyplot as plt\n",
    "from sklearn.linear_model import LinearRegression\n",
    "from sklearn.model_selection import train_test_split\n",
    "from sklearn.metrics import r2_score, mean_squared_error\n",
    "from collections import Counter\n",
    "import seaborn as sb\n",
    "%matplotlib inline\n"
   ]
  },
  {
   "cell_type": "code",
   "execution_count": 47,
   "id": "233f59ed",
   "metadata": {},
   "outputs": [],
   "source": [
    "# Loading the files\n",
    "df_reviews = pd.read_csv('./data/reviews.csv')\n",
    "df_listings = pd.read_csv('./data/listings.csv')\n",
    "df_calendar = pd.read_csv('./data/calendar.csv')"
   ]
  },
  {
   "cell_type": "code",
   "execution_count": 48,
   "id": "bf7aa86b",
   "metadata": {},
   "outputs": [
    {
     "data": {
      "text/html": [
       "<div>\n",
       "<style scoped>\n",
       "    .dataframe tbody tr th:only-of-type {\n",
       "        vertical-align: middle;\n",
       "    }\n",
       "\n",
       "    .dataframe tbody tr th {\n",
       "        vertical-align: top;\n",
       "    }\n",
       "\n",
       "    .dataframe thead th {\n",
       "        text-align: right;\n",
       "    }\n",
       "</style>\n",
       "<table border=\"1\" class=\"dataframe\">\n",
       "  <thead>\n",
       "    <tr style=\"text-align: right;\">\n",
       "      <th></th>\n",
       "      <th>listing_id</th>\n",
       "      <th>id</th>\n",
       "      <th>date</th>\n",
       "      <th>reviewer_id</th>\n",
       "      <th>reviewer_name</th>\n",
       "      <th>comments</th>\n",
       "    </tr>\n",
       "  </thead>\n",
       "  <tbody>\n",
       "    <tr>\n",
       "      <th>0</th>\n",
       "      <td>7202016</td>\n",
       "      <td>38917982</td>\n",
       "      <td>2015-07-19</td>\n",
       "      <td>28943674</td>\n",
       "      <td>Bianca</td>\n",
       "      <td>Cute and cozy place. Perfect location to every...</td>\n",
       "    </tr>\n",
       "    <tr>\n",
       "      <th>1</th>\n",
       "      <td>7202016</td>\n",
       "      <td>39087409</td>\n",
       "      <td>2015-07-20</td>\n",
       "      <td>32440555</td>\n",
       "      <td>Frank</td>\n",
       "      <td>Kelly has a great room in a very central locat...</td>\n",
       "    </tr>\n",
       "    <tr>\n",
       "      <th>2</th>\n",
       "      <td>7202016</td>\n",
       "      <td>39820030</td>\n",
       "      <td>2015-07-26</td>\n",
       "      <td>37722850</td>\n",
       "      <td>Ian</td>\n",
       "      <td>Very spacious apartment, and in a great neighb...</td>\n",
       "    </tr>\n",
       "    <tr>\n",
       "      <th>3</th>\n",
       "      <td>7202016</td>\n",
       "      <td>40813543</td>\n",
       "      <td>2015-08-02</td>\n",
       "      <td>33671805</td>\n",
       "      <td>George</td>\n",
       "      <td>Close to Seattle Center and all it has to offe...</td>\n",
       "    </tr>\n",
       "    <tr>\n",
       "      <th>4</th>\n",
       "      <td>7202016</td>\n",
       "      <td>41986501</td>\n",
       "      <td>2015-08-10</td>\n",
       "      <td>34959538</td>\n",
       "      <td>Ming</td>\n",
       "      <td>Kelly was a great host and very accommodating ...</td>\n",
       "    </tr>\n",
       "  </tbody>\n",
       "</table>\n",
       "</div>"
      ],
      "text/plain": [
       "   listing_id        id        date  reviewer_id reviewer_name  \\\n",
       "0     7202016  38917982  2015-07-19     28943674        Bianca   \n",
       "1     7202016  39087409  2015-07-20     32440555         Frank   \n",
       "2     7202016  39820030  2015-07-26     37722850           Ian   \n",
       "3     7202016  40813543  2015-08-02     33671805        George   \n",
       "4     7202016  41986501  2015-08-10     34959538          Ming   \n",
       "\n",
       "                                            comments  \n",
       "0  Cute and cozy place. Perfect location to every...  \n",
       "1  Kelly has a great room in a very central locat...  \n",
       "2  Very spacious apartment, and in a great neighb...  \n",
       "3  Close to Seattle Center and all it has to offe...  \n",
       "4  Kelly was a great host and very accommodating ...  "
      ]
     },
     "execution_count": 48,
     "metadata": {},
     "output_type": "execute_result"
    }
   ],
   "source": [
    "# Showing the first a few rows of the datasets\n",
    "df_reviews.head()"
   ]
  },
  {
   "cell_type": "code",
   "execution_count": 49,
   "id": "03738bc8",
   "metadata": {},
   "outputs": [
    {
     "data": {
      "text/html": [
       "<div>\n",
       "<style scoped>\n",
       "    .dataframe tbody tr th:only-of-type {\n",
       "        vertical-align: middle;\n",
       "    }\n",
       "\n",
       "    .dataframe tbody tr th {\n",
       "        vertical-align: top;\n",
       "    }\n",
       "\n",
       "    .dataframe thead th {\n",
       "        text-align: right;\n",
       "    }\n",
       "</style>\n",
       "<table border=\"1\" class=\"dataframe\">\n",
       "  <thead>\n",
       "    <tr style=\"text-align: right;\">\n",
       "      <th></th>\n",
       "      <th>listing_id</th>\n",
       "      <th>date</th>\n",
       "      <th>available</th>\n",
       "      <th>price</th>\n",
       "    </tr>\n",
       "  </thead>\n",
       "  <tbody>\n",
       "    <tr>\n",
       "      <th>0</th>\n",
       "      <td>241032</td>\n",
       "      <td>2016-01-04</td>\n",
       "      <td>t</td>\n",
       "      <td>$85.00</td>\n",
       "    </tr>\n",
       "    <tr>\n",
       "      <th>1</th>\n",
       "      <td>241032</td>\n",
       "      <td>2016-01-05</td>\n",
       "      <td>t</td>\n",
       "      <td>$85.00</td>\n",
       "    </tr>\n",
       "    <tr>\n",
       "      <th>2</th>\n",
       "      <td>241032</td>\n",
       "      <td>2016-01-06</td>\n",
       "      <td>f</td>\n",
       "      <td>NaN</td>\n",
       "    </tr>\n",
       "    <tr>\n",
       "      <th>3</th>\n",
       "      <td>241032</td>\n",
       "      <td>2016-01-07</td>\n",
       "      <td>f</td>\n",
       "      <td>NaN</td>\n",
       "    </tr>\n",
       "    <tr>\n",
       "      <th>4</th>\n",
       "      <td>241032</td>\n",
       "      <td>2016-01-08</td>\n",
       "      <td>f</td>\n",
       "      <td>NaN</td>\n",
       "    </tr>\n",
       "  </tbody>\n",
       "</table>\n",
       "</div>"
      ],
      "text/plain": [
       "   listing_id        date available   price\n",
       "0      241032  2016-01-04         t  $85.00\n",
       "1      241032  2016-01-05         t  $85.00\n",
       "2      241032  2016-01-06         f     NaN\n",
       "3      241032  2016-01-07         f     NaN\n",
       "4      241032  2016-01-08         f     NaN"
      ]
     },
     "execution_count": 49,
     "metadata": {},
     "output_type": "execute_result"
    }
   ],
   "source": [
    "df_calendar.head()"
   ]
  },
  {
   "cell_type": "code",
   "execution_count": 50,
   "id": "03de363c",
   "metadata": {},
   "outputs": [
    {
     "data": {
      "text/html": [
       "<div>\n",
       "<style scoped>\n",
       "    .dataframe tbody tr th:only-of-type {\n",
       "        vertical-align: middle;\n",
       "    }\n",
       "\n",
       "    .dataframe tbody tr th {\n",
       "        vertical-align: top;\n",
       "    }\n",
       "\n",
       "    .dataframe thead th {\n",
       "        text-align: right;\n",
       "    }\n",
       "</style>\n",
       "<table border=\"1\" class=\"dataframe\">\n",
       "  <thead>\n",
       "    <tr style=\"text-align: right;\">\n",
       "      <th></th>\n",
       "      <th>id</th>\n",
       "      <th>listing_url</th>\n",
       "      <th>scrape_id</th>\n",
       "      <th>last_scraped</th>\n",
       "      <th>name</th>\n",
       "      <th>summary</th>\n",
       "      <th>space</th>\n",
       "      <th>description</th>\n",
       "      <th>experiences_offered</th>\n",
       "      <th>neighborhood_overview</th>\n",
       "      <th>...</th>\n",
       "      <th>review_scores_value</th>\n",
       "      <th>requires_license</th>\n",
       "      <th>license</th>\n",
       "      <th>jurisdiction_names</th>\n",
       "      <th>instant_bookable</th>\n",
       "      <th>cancellation_policy</th>\n",
       "      <th>require_guest_profile_picture</th>\n",
       "      <th>require_guest_phone_verification</th>\n",
       "      <th>calculated_host_listings_count</th>\n",
       "      <th>reviews_per_month</th>\n",
       "    </tr>\n",
       "  </thead>\n",
       "  <tbody>\n",
       "    <tr>\n",
       "      <th>0</th>\n",
       "      <td>241032</td>\n",
       "      <td>https://www.airbnb.com/rooms/241032</td>\n",
       "      <td>20160104002432</td>\n",
       "      <td>2016-01-04</td>\n",
       "      <td>Stylish Queen Anne Apartment</td>\n",
       "      <td>NaN</td>\n",
       "      <td>Make your self at home in this charming one-be...</td>\n",
       "      <td>Make your self at home in this charming one-be...</td>\n",
       "      <td>none</td>\n",
       "      <td>NaN</td>\n",
       "      <td>...</td>\n",
       "      <td>10.0</td>\n",
       "      <td>f</td>\n",
       "      <td>NaN</td>\n",
       "      <td>WASHINGTON</td>\n",
       "      <td>f</td>\n",
       "      <td>moderate</td>\n",
       "      <td>f</td>\n",
       "      <td>f</td>\n",
       "      <td>2</td>\n",
       "      <td>4.07</td>\n",
       "    </tr>\n",
       "    <tr>\n",
       "      <th>1</th>\n",
       "      <td>953595</td>\n",
       "      <td>https://www.airbnb.com/rooms/953595</td>\n",
       "      <td>20160104002432</td>\n",
       "      <td>2016-01-04</td>\n",
       "      <td>Bright &amp; Airy Queen Anne Apartment</td>\n",
       "      <td>Chemically sensitive? We've removed the irrita...</td>\n",
       "      <td>Beautiful, hypoallergenic apartment in an extr...</td>\n",
       "      <td>Chemically sensitive? We've removed the irrita...</td>\n",
       "      <td>none</td>\n",
       "      <td>Queen Anne is a wonderful, truly functional vi...</td>\n",
       "      <td>...</td>\n",
       "      <td>10.0</td>\n",
       "      <td>f</td>\n",
       "      <td>NaN</td>\n",
       "      <td>WASHINGTON</td>\n",
       "      <td>f</td>\n",
       "      <td>strict</td>\n",
       "      <td>t</td>\n",
       "      <td>t</td>\n",
       "      <td>6</td>\n",
       "      <td>1.48</td>\n",
       "    </tr>\n",
       "    <tr>\n",
       "      <th>2</th>\n",
       "      <td>3308979</td>\n",
       "      <td>https://www.airbnb.com/rooms/3308979</td>\n",
       "      <td>20160104002432</td>\n",
       "      <td>2016-01-04</td>\n",
       "      <td>New Modern House-Amazing water view</td>\n",
       "      <td>New modern house built in 2013.  Spectacular s...</td>\n",
       "      <td>Our house is modern, light and fresh with a wa...</td>\n",
       "      <td>New modern house built in 2013.  Spectacular s...</td>\n",
       "      <td>none</td>\n",
       "      <td>Upper Queen Anne is a charming neighborhood fu...</td>\n",
       "      <td>...</td>\n",
       "      <td>10.0</td>\n",
       "      <td>f</td>\n",
       "      <td>NaN</td>\n",
       "      <td>WASHINGTON</td>\n",
       "      <td>f</td>\n",
       "      <td>strict</td>\n",
       "      <td>f</td>\n",
       "      <td>f</td>\n",
       "      <td>2</td>\n",
       "      <td>1.15</td>\n",
       "    </tr>\n",
       "    <tr>\n",
       "      <th>3</th>\n",
       "      <td>7421966</td>\n",
       "      <td>https://www.airbnb.com/rooms/7421966</td>\n",
       "      <td>20160104002432</td>\n",
       "      <td>2016-01-04</td>\n",
       "      <td>Queen Anne Chateau</td>\n",
       "      <td>A charming apartment that sits atop Queen Anne...</td>\n",
       "      <td>NaN</td>\n",
       "      <td>A charming apartment that sits atop Queen Anne...</td>\n",
       "      <td>none</td>\n",
       "      <td>NaN</td>\n",
       "      <td>...</td>\n",
       "      <td>NaN</td>\n",
       "      <td>f</td>\n",
       "      <td>NaN</td>\n",
       "      <td>WASHINGTON</td>\n",
       "      <td>f</td>\n",
       "      <td>flexible</td>\n",
       "      <td>f</td>\n",
       "      <td>f</td>\n",
       "      <td>1</td>\n",
       "      <td>NaN</td>\n",
       "    </tr>\n",
       "    <tr>\n",
       "      <th>4</th>\n",
       "      <td>278830</td>\n",
       "      <td>https://www.airbnb.com/rooms/278830</td>\n",
       "      <td>20160104002432</td>\n",
       "      <td>2016-01-04</td>\n",
       "      <td>Charming craftsman 3 bdm house</td>\n",
       "      <td>Cozy family craftman house in beautiful neighb...</td>\n",
       "      <td>Cozy family craftman house in beautiful neighb...</td>\n",
       "      <td>Cozy family craftman house in beautiful neighb...</td>\n",
       "      <td>none</td>\n",
       "      <td>We are in the beautiful neighborhood of Queen ...</td>\n",
       "      <td>...</td>\n",
       "      <td>9.0</td>\n",
       "      <td>f</td>\n",
       "      <td>NaN</td>\n",
       "      <td>WASHINGTON</td>\n",
       "      <td>f</td>\n",
       "      <td>strict</td>\n",
       "      <td>f</td>\n",
       "      <td>f</td>\n",
       "      <td>1</td>\n",
       "      <td>0.89</td>\n",
       "    </tr>\n",
       "  </tbody>\n",
       "</table>\n",
       "<p>5 rows × 92 columns</p>\n",
       "</div>"
      ],
      "text/plain": [
       "        id                           listing_url       scrape_id last_scraped  \\\n",
       "0   241032   https://www.airbnb.com/rooms/241032  20160104002432   2016-01-04   \n",
       "1   953595   https://www.airbnb.com/rooms/953595  20160104002432   2016-01-04   \n",
       "2  3308979  https://www.airbnb.com/rooms/3308979  20160104002432   2016-01-04   \n",
       "3  7421966  https://www.airbnb.com/rooms/7421966  20160104002432   2016-01-04   \n",
       "4   278830   https://www.airbnb.com/rooms/278830  20160104002432   2016-01-04   \n",
       "\n",
       "                                  name  \\\n",
       "0         Stylish Queen Anne Apartment   \n",
       "1   Bright & Airy Queen Anne Apartment   \n",
       "2  New Modern House-Amazing water view   \n",
       "3                   Queen Anne Chateau   \n",
       "4       Charming craftsman 3 bdm house   \n",
       "\n",
       "                                             summary  \\\n",
       "0                                                NaN   \n",
       "1  Chemically sensitive? We've removed the irrita...   \n",
       "2  New modern house built in 2013.  Spectacular s...   \n",
       "3  A charming apartment that sits atop Queen Anne...   \n",
       "4  Cozy family craftman house in beautiful neighb...   \n",
       "\n",
       "                                               space  \\\n",
       "0  Make your self at home in this charming one-be...   \n",
       "1  Beautiful, hypoallergenic apartment in an extr...   \n",
       "2  Our house is modern, light and fresh with a wa...   \n",
       "3                                                NaN   \n",
       "4  Cozy family craftman house in beautiful neighb...   \n",
       "\n",
       "                                         description experiences_offered  \\\n",
       "0  Make your self at home in this charming one-be...                none   \n",
       "1  Chemically sensitive? We've removed the irrita...                none   \n",
       "2  New modern house built in 2013.  Spectacular s...                none   \n",
       "3  A charming apartment that sits atop Queen Anne...                none   \n",
       "4  Cozy family craftman house in beautiful neighb...                none   \n",
       "\n",
       "                               neighborhood_overview  ... review_scores_value  \\\n",
       "0                                                NaN  ...                10.0   \n",
       "1  Queen Anne is a wonderful, truly functional vi...  ...                10.0   \n",
       "2  Upper Queen Anne is a charming neighborhood fu...  ...                10.0   \n",
       "3                                                NaN  ...                 NaN   \n",
       "4  We are in the beautiful neighborhood of Queen ...  ...                 9.0   \n",
       "\n",
       "  requires_license license jurisdiction_names instant_bookable  \\\n",
       "0                f     NaN         WASHINGTON                f   \n",
       "1                f     NaN         WASHINGTON                f   \n",
       "2                f     NaN         WASHINGTON                f   \n",
       "3                f     NaN         WASHINGTON                f   \n",
       "4                f     NaN         WASHINGTON                f   \n",
       "\n",
       "  cancellation_policy  require_guest_profile_picture  \\\n",
       "0            moderate                              f   \n",
       "1              strict                              t   \n",
       "2              strict                              f   \n",
       "3            flexible                              f   \n",
       "4              strict                              f   \n",
       "\n",
       "  require_guest_phone_verification calculated_host_listings_count  \\\n",
       "0                                f                              2   \n",
       "1                                t                              6   \n",
       "2                                f                              2   \n",
       "3                                f                              1   \n",
       "4                                f                              1   \n",
       "\n",
       "  reviews_per_month  \n",
       "0              4.07  \n",
       "1              1.48  \n",
       "2              1.15  \n",
       "3               NaN  \n",
       "4              0.89  \n",
       "\n",
       "[5 rows x 92 columns]"
      ]
     },
     "execution_count": 50,
     "metadata": {},
     "output_type": "execute_result"
    }
   ],
   "source": [
    "df_listings.head()"
   ]
  },
  {
   "cell_type": "markdown",
   "id": "cb0cd6c5",
   "metadata": {},
   "source": [
    "## Understanding and Assessing the datasets"
   ]
  },
  {
   "cell_type": "code",
   "execution_count": 51,
   "id": "149fd421",
   "metadata": {},
   "outputs": [
    {
     "name": "stdout",
     "output_type": "stream",
     "text": [
      "<class 'pandas.core.frame.DataFrame'>\n",
      "RangeIndex: 84849 entries, 0 to 84848\n",
      "Data columns (total 6 columns):\n",
      " #   Column         Non-Null Count  Dtype \n",
      "---  ------         --------------  ----- \n",
      " 0   listing_id     84849 non-null  int64 \n",
      " 1   id             84849 non-null  int64 \n",
      " 2   date           84849 non-null  object\n",
      " 3   reviewer_id    84849 non-null  int64 \n",
      " 4   reviewer_name  84849 non-null  object\n",
      " 5   comments       84831 non-null  object\n",
      "dtypes: int64(3), object(3)\n",
      "memory usage: 3.9+ MB\n"
     ]
    }
   ],
   "source": [
    "# Assessing the Reviews dataset\n",
    "df_reviews.info()"
   ]
  },
  {
   "cell_type": "code",
   "execution_count": 52,
   "id": "052fc029",
   "metadata": {},
   "outputs": [
    {
     "data": {
      "text/plain": [
       "listing_id        0\n",
       "id                0\n",
       "date              0\n",
       "reviewer_id       0\n",
       "reviewer_name     0\n",
       "comments         18\n",
       "dtype: int64"
      ]
     },
     "execution_count": 52,
     "metadata": {},
     "output_type": "execute_result"
    }
   ],
   "source": [
    "df_reviews.isnull().sum()"
   ]
  },
  {
   "cell_type": "markdown",
   "id": "a015886c",
   "metadata": {},
   "source": [
    "### Findings on the Reviews dataset\n",
    "\n",
    "1. There are 84849 rows and 6 columns.\n",
    "\n",
    "2. 18 values are missing in the review column. These rows can be dropped later.\n",
    "\n",
    "3. The date column's data type is string and it will be changed to the date if needed. "
   ]
  },
  {
   "cell_type": "code",
   "execution_count": 53,
   "id": "77472d03",
   "metadata": {},
   "outputs": [
    {
     "name": "stdout",
     "output_type": "stream",
     "text": [
      "<class 'pandas.core.frame.DataFrame'>\n",
      "RangeIndex: 1393570 entries, 0 to 1393569\n",
      "Data columns (total 4 columns):\n",
      " #   Column      Non-Null Count    Dtype \n",
      "---  ------      --------------    ----- \n",
      " 0   listing_id  1393570 non-null  int64 \n",
      " 1   date        1393570 non-null  object\n",
      " 2   available   1393570 non-null  object\n",
      " 3   price       934542 non-null   object\n",
      "dtypes: int64(1), object(3)\n",
      "memory usage: 42.5+ MB\n"
     ]
    }
   ],
   "source": [
    "# Assessing the Calendar dataset\n",
    "df_calendar.info()"
   ]
  },
  {
   "cell_type": "code",
   "execution_count": 54,
   "id": "0ab7d670",
   "metadata": {},
   "outputs": [
    {
     "data": {
      "text/plain": [
       "listing_id         0\n",
       "date               0\n",
       "available          0\n",
       "price         459028\n",
       "dtype: int64"
      ]
     },
     "execution_count": 54,
     "metadata": {},
     "output_type": "execute_result"
    }
   ],
   "source": [
    "df_calendar.isnull().sum()"
   ]
  },
  {
   "cell_type": "code",
   "execution_count": 55,
   "id": "9c159ff6",
   "metadata": {},
   "outputs": [
    {
     "data": {
      "text/plain": [
       "0.32938998399793334"
      ]
     },
     "execution_count": 55,
     "metadata": {},
     "output_type": "execute_result"
    }
   ],
   "source": [
    "df_calendar['price'].isnull().sum()/df_calendar['price'].shape[0]"
   ]
  },
  {
   "cell_type": "code",
   "execution_count": 56,
   "id": "d9b0dc53",
   "metadata": {},
   "outputs": [
    {
     "data": {
      "text/plain": [
       "$150.00    36646\n",
       "$100.00    31755\n",
       "$75.00     29820\n",
       "$125.00    27538\n",
       "$65.00     26415\n",
       "           ...  \n",
       "$751.00        1\n",
       "$759.00        1\n",
       "$12.00         1\n",
       "$685.00        1\n",
       "$554.00        1\n",
       "Name: price, Length: 669, dtype: int64"
      ]
     },
     "execution_count": 56,
     "metadata": {},
     "output_type": "execute_result"
    }
   ],
   "source": [
    "df_calendar['price'].value_counts()"
   ]
  },
  {
   "cell_type": "markdown",
   "id": "76989c4b",
   "metadata": {},
   "source": [
    "### Findings on the Calendar dataset\n",
    "\n",
    "1. There are 1393570 rows and 4 columns.\n",
    "2. Almost 33% of the price column's data is missing. The missing rows can be dropped (but it is a big portion of the column) or the missing data can be filled with mean value. It will be decided depending on the evaluation of this datase.\n",
    "3. The price column's data type is object and it will be changed to float and the \"$\" sign will be removed. \n",
    "4. The date column's data type is string and it will be changed to the date if needed. "
   ]
  },
  {
   "cell_type": "code",
   "execution_count": 57,
   "id": "a0703b41",
   "metadata": {
    "scrolled": true
   },
   "outputs": [
    {
     "name": "stdout",
     "output_type": "stream",
     "text": [
      "<class 'pandas.core.frame.DataFrame'>\n",
      "RangeIndex: 3818 entries, 0 to 3817\n",
      "Data columns (total 92 columns):\n",
      " #   Column                            Non-Null Count  Dtype  \n",
      "---  ------                            --------------  -----  \n",
      " 0   id                                3818 non-null   int64  \n",
      " 1   listing_url                       3818 non-null   object \n",
      " 2   scrape_id                         3818 non-null   int64  \n",
      " 3   last_scraped                      3818 non-null   object \n",
      " 4   name                              3818 non-null   object \n",
      " 5   summary                           3641 non-null   object \n",
      " 6   space                             3249 non-null   object \n",
      " 7   description                       3818 non-null   object \n",
      " 8   experiences_offered               3818 non-null   object \n",
      " 9   neighborhood_overview             2786 non-null   object \n",
      " 10  notes                             2212 non-null   object \n",
      " 11  transit                           2884 non-null   object \n",
      " 12  thumbnail_url                     3498 non-null   object \n",
      " 13  medium_url                        3498 non-null   object \n",
      " 14  picture_url                       3818 non-null   object \n",
      " 15  xl_picture_url                    3498 non-null   object \n",
      " 16  host_id                           3818 non-null   int64  \n",
      " 17  host_url                          3818 non-null   object \n",
      " 18  host_name                         3816 non-null   object \n",
      " 19  host_since                        3816 non-null   object \n",
      " 20  host_location                     3810 non-null   object \n",
      " 21  host_about                        2959 non-null   object \n",
      " 22  host_response_time                3295 non-null   object \n",
      " 23  host_response_rate                3295 non-null   object \n",
      " 24  host_acceptance_rate              3045 non-null   object \n",
      " 25  host_is_superhost                 3816 non-null   object \n",
      " 26  host_thumbnail_url                3816 non-null   object \n",
      " 27  host_picture_url                  3816 non-null   object \n",
      " 28  host_neighbourhood                3518 non-null   object \n",
      " 29  host_listings_count               3816 non-null   float64\n",
      " 30  host_total_listings_count         3816 non-null   float64\n",
      " 31  host_verifications                3818 non-null   object \n",
      " 32  host_has_profile_pic              3816 non-null   object \n",
      " 33  host_identity_verified            3816 non-null   object \n",
      " 34  street                            3818 non-null   object \n",
      " 35  neighbourhood                     3402 non-null   object \n",
      " 36  neighbourhood_cleansed            3818 non-null   object \n",
      " 37  neighbourhood_group_cleansed      3818 non-null   object \n",
      " 38  city                              3818 non-null   object \n",
      " 39  state                             3818 non-null   object \n",
      " 40  zipcode                           3811 non-null   object \n",
      " 41  market                            3818 non-null   object \n",
      " 42  smart_location                    3818 non-null   object \n",
      " 43  country_code                      3818 non-null   object \n",
      " 44  country                           3818 non-null   object \n",
      " 45  latitude                          3818 non-null   float64\n",
      " 46  longitude                         3818 non-null   float64\n",
      " 47  is_location_exact                 3818 non-null   object \n",
      " 48  property_type                     3817 non-null   object \n",
      " 49  room_type                         3818 non-null   object \n",
      " 50  accommodates                      3818 non-null   int64  \n",
      " 51  bathrooms                         3802 non-null   float64\n",
      " 52  bedrooms                          3812 non-null   float64\n",
      " 53  beds                              3817 non-null   float64\n",
      " 54  bed_type                          3818 non-null   object \n",
      " 55  amenities                         3818 non-null   object \n",
      " 56  square_feet                       97 non-null     float64\n",
      " 57  price                             3818 non-null   object \n",
      " 58  weekly_price                      2009 non-null   object \n",
      " 59  monthly_price                     1517 non-null   object \n",
      " 60  security_deposit                  1866 non-null   object \n",
      " 61  cleaning_fee                      2788 non-null   object \n",
      " 62  guests_included                   3818 non-null   int64  \n",
      " 63  extra_people                      3818 non-null   object \n",
      " 64  minimum_nights                    3818 non-null   int64  \n",
      " 65  maximum_nights                    3818 non-null   int64  \n",
      " 66  calendar_updated                  3818 non-null   object \n",
      " 67  has_availability                  3818 non-null   object \n",
      " 68  availability_30                   3818 non-null   int64  \n",
      " 69  availability_60                   3818 non-null   int64  \n",
      " 70  availability_90                   3818 non-null   int64  \n",
      " 71  availability_365                  3818 non-null   int64  \n",
      " 72  calendar_last_scraped             3818 non-null   object \n",
      " 73  number_of_reviews                 3818 non-null   int64  \n",
      " 74  first_review                      3191 non-null   object \n",
      " 75  last_review                       3191 non-null   object \n",
      " 76  review_scores_rating              3171 non-null   float64\n",
      " 77  review_scores_accuracy            3160 non-null   float64\n",
      " 78  review_scores_cleanliness         3165 non-null   float64\n",
      " 79  review_scores_checkin             3160 non-null   float64\n",
      " 80  review_scores_communication       3167 non-null   float64\n",
      " 81  review_scores_location            3163 non-null   float64\n",
      " 82  review_scores_value               3162 non-null   float64\n",
      " 83  requires_license                  3818 non-null   object \n",
      " 84  license                           0 non-null      float64\n",
      " 85  jurisdiction_names                3818 non-null   object \n",
      " 86  instant_bookable                  3818 non-null   object \n",
      " 87  cancellation_policy               3818 non-null   object \n",
      " 88  require_guest_profile_picture     3818 non-null   object \n",
      " 89  require_guest_phone_verification  3818 non-null   object \n",
      " 90  calculated_host_listings_count    3818 non-null   int64  \n",
      " 91  reviews_per_month                 3191 non-null   float64\n",
      "dtypes: float64(17), int64(13), object(62)\n",
      "memory usage: 2.7+ MB\n"
     ]
    }
   ],
   "source": [
    "# Assessing the Listings dataset\n",
    "df_listings.info()"
   ]
  },
  {
   "cell_type": "code",
   "execution_count": 58,
   "id": "8c38787a",
   "metadata": {},
   "outputs": [
    {
     "data": {
      "text/plain": [
       "id                                    0\n",
       "listing_url                           0\n",
       "scrape_id                             0\n",
       "last_scraped                          0\n",
       "name                                  0\n",
       "                                   ... \n",
       "cancellation_policy                   0\n",
       "require_guest_profile_picture         0\n",
       "require_guest_phone_verification      0\n",
       "calculated_host_listings_count        0\n",
       "reviews_per_month                   627\n",
       "Length: 92, dtype: int64"
      ]
     },
     "execution_count": 58,
     "metadata": {},
     "output_type": "execute_result"
    }
   ],
   "source": [
    "df_listings.isnull().sum()"
   ]
  },
  {
   "cell_type": "code",
   "execution_count": 59,
   "id": "a55b6d5b",
   "metadata": {},
   "outputs": [
    {
     "data": {
      "text/plain": [
       "0"
      ]
     },
     "execution_count": 59,
     "metadata": {},
     "output_type": "execute_result"
    }
   ],
   "source": [
    "df_listings['price'].isnull().sum()"
   ]
  },
  {
   "cell_type": "markdown",
   "id": "961e9965",
   "metadata": {},
   "source": [
    "### Findings on the Listings dataset\n",
    "\n",
    "1. There are 3818 rows and 92 columns.\n",
    "2. The price column's data type is object and it will be changed to float and the \"$\" sign will be removed. \n",
    "3. The unused columns will be dropped.\n",
    "4. The missing values will be taken care of by dropped or filled with mean, mode or median."
   ]
  },
  {
   "cell_type": "markdown",
   "id": "1850ac0d",
   "metadata": {},
   "source": [
    "## Preparing the Dataset and Exploratory Plots"
   ]
  },
  {
   "cell_type": "code",
   "execution_count": 60,
   "id": "67475e09",
   "metadata": {},
   "outputs": [],
   "source": [
    "# Changing data type and removing the \"$\" in the price column in the Calendar dataset\n",
    "df_calendar['price'] = df_calendar['price'].replace('[\\$,]', '', regex=True)\n",
    "df_calendar['price'] = df_calendar['price'].astype('float')"
   ]
  },
  {
   "cell_type": "code",
   "execution_count": 67,
   "id": "9fc4978b",
   "metadata": {},
   "outputs": [
    {
     "data": {
      "image/png": "[encoded data removed]",
      "text/plain": [
       "<Figure size 720x576 with 1 Axes>"
      ]
     },
     "metadata": {},
     "output_type": "display_data"
    }
   ],
   "source": [
    "# Changing the data type of the date column in the Calendar dataset\n",
    "df_calendar['date'] = pd.to_datetime(df_calendar['date'])\n",
    "df_calendar['listing_date'] = df_calendar.date.dt.strftime('%Y-%m-%d')\n",
    "df_calendar['listing_month'] =  df_calendar.date.dt.strftime('%B')\n",
    "df_calendar['listing_day'] =  df_calendar.date.dt.strftime('%A')\n",
    "\n",
    "# Listing distibution over months\n",
    "month = ['January', 'February', 'March', 'April', 'May', 'June', 'July', 'August', 'September', 'October', 'November', 'December']\n",
    "monthcat = pd.api.types.CategoricalDtype(ordered=True, categories=month)\n",
    "df_calendar['listing_month'] = df_calendar['listing_month'].astype(monthcat)\n",
    "\n",
    "#df_calendar.dropna(subset = [\"price\"], inplace=True)\n",
    "\n",
    "# Plotting the listing distribution over months\n",
    "plt.rcParams['figure.figsize']=10,8\n",
    "color = sb.color_palette('colorblind')[0]\n",
    "sb.set_style('darkgrid')\n",
    "\n",
    "sb.barplot(data=df_calendar, x='listing_month', y='price', color=color)\n",
    "plt.xticks(rotation=30)\n",
    "plt.xlabel('Months')\n",
    "plt.ylabel('Price')\n",
    "plt.title('Listing Distribution over Months in Airbnb Seattle');"
   ]
  },
  {
   "cell_type": "markdown",
   "id": "f7a8516e",
   "metadata": {},
   "source": [
    "The plot shows that the highest prices in Seattle Airbnb listings are between June and August. July is the most expensive months. After August the listing prices start decreasing and the start increasing again in December. "
   ]
  },
  {
   "cell_type": "code",
   "execution_count": 62,
   "id": "cef54c1a",
   "metadata": {},
   "outputs": [],
   "source": [
    "# Changing data type and removing the \"$\" in the price column in the Calendar dataset\n",
    "df_listings['price'] = df_listings['price'].replace('[\\$,]', '', regex=True)\n",
    "df_listings['price'] = df_listings['price'].astype('float')"
   ]
  },
  {
   "cell_type": "code",
   "execution_count": 63,
   "id": "00b4adfd",
   "metadata": {},
   "outputs": [
    {
     "data": {
      "image/png": "[encoded data removed]",
      "text/plain": [
       "<Figure size 720x576 with 1 Axes>"
      ]
     },
     "metadata": {},
     "output_type": "display_data"
    }
   ],
   "source": [
    "sb.countplot(data=df_listings, x='property_type', color=color)\n",
    "plt.xticks(rotation=90)\n",
    "plt.xlabel('Property Type')\n",
    "plt.ylabel('Count')\n",
    "plt.title('Property Types in Airbnb Seattle');"
   ]
  },
  {
   "cell_type": "code",
   "execution_count": 64,
   "id": "9fa8672d",
   "metadata": {},
   "outputs": [
    {
     "data": {
      "image/png": "[encoded data removed]",
      "text/plain": [
       "<Figure size 720x576 with 1 Axes>"
      ]
     },
     "metadata": {},
     "output_type": "display_data"
    }
   ],
   "source": [
    "plot_order = df_listings.groupby('property_type')['price'].mean().sort_values(ascending=False).index.values\n",
    "sb.barplot(data=df_listings, x='property_type', y='price', color=color, order=plot_order)\n",
    "plt.xticks(rotation=90)\n",
    "plt.xlabel('Property Type')\n",
    "plt.ylabel('Price')\n",
    "plt.title('Listing Prices by Property Types');"
   ]
  },
  {
   "cell_type": "markdown",
   "id": "3f369e2f",
   "metadata": {},
   "source": [
    "The plots show that houses and apartments are the most common property types. The boats are the most expensive listings in Airbnb Seattle. "
   ]
  },
  {
   "cell_type": "code",
   "execution_count": 68,
   "id": "c1a306cf",
   "metadata": {},
   "outputs": [
    {
     "data": {
      "text/plain": [
       "property_type\n",
       "Boat               282.375000\n",
       "Condominium        151.109890\n",
       "Loft               135.700000\n",
       "House              132.351414\n",
       "Townhouse          129.457627\n",
       "Apartment          122.932670\n",
       "Camper/RV          120.461538\n",
       "Bungalow           115.615385\n",
       "Bed & Breakfast    112.054054\n",
       "Cabin              104.666667\n",
       "Name: price, dtype: float64"
      ]
     },
     "execution_count": 68,
     "metadata": {},
     "output_type": "execute_result"
    }
   ],
   "source": [
    "df_listings.groupby('property_type')['price'].mean().sort_values(ascending=False).head(10)"
   ]
  },
  {
   "cell_type": "code",
   "execution_count": 20,
   "id": "ae5f93ec",
   "metadata": {},
   "outputs": [
    {
     "data": {
      "image/png": "[encoded data removed]",
      "text/plain": [
       "<Figure size 720x576 with 1 Axes>"
      ]
     },
     "metadata": {},
     "output_type": "display_data"
    }
   ],
   "source": [
    "plot_order = df_listings.groupby('neighbourhood_cleansed')['price'].mean().sort_values(ascending=False).index.values\n",
    "sb.barplot(data=df_listings, x='neighbourhood_cleansed', y='price', color=color, order=plot_order[0:5])\n",
    "\n",
    "plt.xticks(rotation=30)\n",
    "plt.xlabel('Neighbourhoods')\n",
    "plt.ylabel('Price')\n",
    "plt.title('The 5 Most Expensive Neighbourhoods');"
   ]
  },
  {
   "cell_type": "code",
   "execution_count": 21,
   "id": "8ff10f30",
   "metadata": {},
   "outputs": [
    {
     "data": {
      "text/plain": [
       "neighbourhood_cleansed\n",
       "Southeast Magnolia    231.705882\n",
       "Portage Bay           227.857143\n",
       "Westlake              194.470588\n",
       "West Queen Anne       187.769231\n",
       "Montlake              182.789474\n",
       "Name: price, dtype: float64"
      ]
     },
     "execution_count": 21,
     "metadata": {},
     "output_type": "execute_result"
    }
   ],
   "source": [
    "df_listings.groupby('neighbourhood_cleansed')['price'].mean().sort_values(ascending=False).head(5)"
   ]
  },
  {
   "cell_type": "code",
   "execution_count": 22,
   "id": "faab1e28",
   "metadata": {},
   "outputs": [
    {
     "data": {
      "image/png": "[encoded data removed]",
      "text/plain": [
       "<Figure size 720x576 with 1 Axes>"
      ]
     },
     "metadata": {},
     "output_type": "display_data"
    }
   ],
   "source": [
    "plot_order = df_listings.groupby('neighbourhood_cleansed')['price'].mean().sort_values(ascending=False).index.values\n",
    "sb.barplot(data=df_listings, x='neighbourhood_cleansed', y='price', color=color, order=plot_order[82:87])\n",
    "\n",
    "plt.xticks(rotation=30)\n",
    "plt.xlabel('Neighbourhoods')\n",
    "plt.ylabel('Price')\n",
    "plt.title('The 5 Least Expensive Neighbourhoods');"
   ]
  },
  {
   "cell_type": "code",
   "execution_count": 23,
   "id": "53f2fbd6",
   "metadata": {},
   "outputs": [
    {
     "data": {
      "text/plain": [
       "neighbourhood_cleansed\n",
       "North Delridge    76.375000\n",
       "Georgetown        76.125000\n",
       "South Delridge    74.666667\n",
       "Olympic Hills     71.687500\n",
       "Rainier Beach     68.555556\n",
       "Name: price, dtype: float64"
      ]
     },
     "execution_count": 23,
     "metadata": {},
     "output_type": "execute_result"
    }
   ],
   "source": [
    "df_listings.groupby('neighbourhood_cleansed')['price'].mean().sort_values(ascending=False).tail()"
   ]
  },
  {
   "cell_type": "markdown",
   "id": "299d85ac",
   "metadata": {},
   "source": [
    "The most expensive listing is in Southeast Magnolia and its avarage is $231. \n",
    "\n",
    "The least expesive listing is in Rainier Beach and its avarage is $68.5. "
   ]
  },
  {
   "cell_type": "markdown",
   "id": "1803e03d",
   "metadata": {},
   "source": [
    "## Modelling"
   ]
  },
  {
   "cell_type": "markdown",
   "id": "9eb30c81",
   "metadata": {},
   "source": [
    "In this section the listings dataset will be prepared for the price prediction modelling. Data cleaning steps includes; dropping some columns, changing data types, removing signs and texts from the rows and columns, filling missing values by mean, mode or median of the columns and removing the missing values if needed. "
   ]
  },
  {
   "cell_type": "code",
   "execution_count": 24,
   "id": "1a5610e5",
   "metadata": {},
   "outputs": [],
   "source": [
    "# Dropping used columns\n",
    "drop_columns = ['id','listing_url','scrape_id','last_scraped','thumbnail_url','medium_url','xl_picture_url','host_id','host_url','host_thumbnail_url','host_verifications','street','neighbourhood','neighbourhood_group_cleansed','zipcode','smart_location','country','latitude','longitude','weekly_price','monthly_price','calendar_updated','calendar_last_scraped','first_review','last_review','calculated_host_listings_count','reviews_per_month', 'experiences_offered','market','jurisdiction_names']\n",
    "df_listings = df_listings.drop(drop_columns, axis=1)"
   ]
  },
  {
   "cell_type": "code",
   "execution_count": 25,
   "id": "5b75b57b",
   "metadata": {},
   "outputs": [
    {
     "data": {
      "text/plain": [
       "(3818, 62)"
      ]
     },
     "execution_count": 25,
     "metadata": {},
     "output_type": "execute_result"
    }
   ],
   "source": [
    "df_listings.shape"
   ]
  },
  {
   "cell_type": "code",
   "execution_count": 26,
   "id": "ce0b5d9b",
   "metadata": {},
   "outputs": [
    {
     "name": "stdout",
     "output_type": "stream",
     "text": [
      "<class 'pandas.core.frame.DataFrame'>\n",
      "RangeIndex: 3818 entries, 0 to 3817\n",
      "Data columns (total 62 columns):\n",
      " #   Column                            Non-Null Count  Dtype  \n",
      "---  ------                            --------------  -----  \n",
      " 0   name                              3818 non-null   object \n",
      " 1   summary                           3641 non-null   object \n",
      " 2   space                             3249 non-null   object \n",
      " 3   description                       3818 non-null   object \n",
      " 4   neighborhood_overview             2786 non-null   object \n",
      " 5   notes                             2212 non-null   object \n",
      " 6   transit                           2884 non-null   object \n",
      " 7   picture_url                       3818 non-null   object \n",
      " 8   host_name                         3816 non-null   object \n",
      " 9   host_since                        3816 non-null   object \n",
      " 10  host_location                     3810 non-null   object \n",
      " 11  host_about                        2959 non-null   object \n",
      " 12  host_response_time                3295 non-null   object \n",
      " 13  host_response_rate                3295 non-null   object \n",
      " 14  host_acceptance_rate              3045 non-null   object \n",
      " 15  host_is_superhost                 3816 non-null   object \n",
      " 16  host_picture_url                  3816 non-null   object \n",
      " 17  host_neighbourhood                3518 non-null   object \n",
      " 18  host_listings_count               3816 non-null   float64\n",
      " 19  host_total_listings_count         3816 non-null   float64\n",
      " 20  host_has_profile_pic              3816 non-null   object \n",
      " 21  host_identity_verified            3816 non-null   object \n",
      " 22  neighbourhood_cleansed            3818 non-null   object \n",
      " 23  city                              3818 non-null   object \n",
      " 24  state                             3818 non-null   object \n",
      " 25  country_code                      3818 non-null   object \n",
      " 26  is_location_exact                 3818 non-null   object \n",
      " 27  property_type                     3817 non-null   object \n",
      " 28  room_type                         3818 non-null   object \n",
      " 29  accommodates                      3818 non-null   int64  \n",
      " 30  bathrooms                         3802 non-null   float64\n",
      " 31  bedrooms                          3812 non-null   float64\n",
      " 32  beds                              3817 non-null   float64\n",
      " 33  bed_type                          3818 non-null   object \n",
      " 34  amenities                         3818 non-null   object \n",
      " 35  square_feet                       97 non-null     float64\n",
      " 36  price                             3818 non-null   float64\n",
      " 37  security_deposit                  1866 non-null   object \n",
      " 38  cleaning_fee                      2788 non-null   object \n",
      " 39  guests_included                   3818 non-null   int64  \n",
      " 40  extra_people                      3818 non-null   object \n",
      " 41  minimum_nights                    3818 non-null   int64  \n",
      " 42  maximum_nights                    3818 non-null   int64  \n",
      " 43  has_availability                  3818 non-null   object \n",
      " 44  availability_30                   3818 non-null   int64  \n",
      " 45  availability_60                   3818 non-null   int64  \n",
      " 46  availability_90                   3818 non-null   int64  \n",
      " 47  availability_365                  3818 non-null   int64  \n",
      " 48  number_of_reviews                 3818 non-null   int64  \n",
      " 49  review_scores_rating              3171 non-null   float64\n",
      " 50  review_scores_accuracy            3160 non-null   float64\n",
      " 51  review_scores_cleanliness         3165 non-null   float64\n",
      " 52  review_scores_checkin             3160 non-null   float64\n",
      " 53  review_scores_communication       3167 non-null   float64\n",
      " 54  review_scores_location            3163 non-null   float64\n",
      " 55  review_scores_value               3162 non-null   float64\n",
      " 56  requires_license                  3818 non-null   object \n",
      " 57  license                           0 non-null      float64\n",
      " 58  instant_bookable                  3818 non-null   object \n",
      " 59  cancellation_policy               3818 non-null   object \n",
      " 60  require_guest_profile_picture     3818 non-null   object \n",
      " 61  require_guest_phone_verification  3818 non-null   object \n",
      "dtypes: float64(15), int64(9), object(38)\n",
      "memory usage: 1.8+ MB\n"
     ]
    }
   ],
   "source": [
    "df_listings.info()"
   ]
  },
  {
   "cell_type": "code",
   "execution_count": 27,
   "id": "bbe5953f",
   "metadata": {},
   "outputs": [],
   "source": [
    "# Changing data types and removing \"$\" in cleaning_fee, extra_people, security_deposit and host_response rate columns\n",
    "df_listings['cleaning_fee'] = df_listings['cleaning_fee'].replace('[$,]','', regex=True).astype(float)\n",
    "df_listings['extra_people'] = df_listings['extra_people'].replace('[$,]','', regex=True).astype(float)\n",
    "df_listings['security_deposit'] = df_listings['security_deposit'].replace('[$,]','', regex=True).astype(float)\n",
    "df_listings['host_response_rate'] = df_listings['host_response_rate'].replace('%','', regex=True).astype(float)"
   ]
  },
  {
   "cell_type": "code",
   "execution_count": 28,
   "id": "1d1c4b6c",
   "metadata": {},
   "outputs": [],
   "source": [
    "# Removing empty rows in the property_type column\n",
    "df_listings = df_listings.dropna(subset=['property_type'], axis=0)\n",
    "\n",
    "# Tidying the city and state columns\n",
    "df_listings['city'] = df_listings['city'].str.lower()\n",
    "df_listings['city'] = df_listings['city'].str.strip()\n",
    "df_listings['state'] = df_listings['state'].str.lower()"
   ]
  },
  {
   "cell_type": "code",
   "execution_count": 29,
   "id": "578a8feb",
   "metadata": {},
   "outputs": [],
   "source": [
    "# Filling missing values with 1, 0 and N/A\n",
    "df_listings['host_response_time'] = df_listings['host_response_time'].fillna('N/A')\n",
    "df_listings['host_acceptance_rate'] = df_listings['host_acceptance_rate'].fillna('N/A')\n",
    "df_listings['host_response_rate'] = df_listings['host_response_rate'].fillna(0)\n",
    "df_listings['security_deposit'] = df_listings['security_deposit'].fillna(0)\n",
    "df_listings['cleaning_fee'] = df_listings['cleaning_fee'].fillna(0)\n",
    "\n",
    "df_listings['bathrooms'] = df_listings['bathrooms'].fillna(1)\n",
    "df_listings['bedrooms'] = df_listings['bedrooms'].fillna(1)\n",
    "df_listings['beds'] = df_listings['beds'].fillna(1)\n",
    "\n",
    "df_listings['host_listings_count'] = df_listings['host_listings_count'].fillna(1)\n",
    "df_listings['host_total_listings_count'] = df_listings['host_total_listings_count'].fillna(1)\n",
    "\n",
    "review_cols = ['review_scores_rating','review_scores_accuracy','review_scores_cleanliness','review_scores_checkin','review_scores_communication','review_scores_location','review_scores_value']\n",
    "for col in review_cols:\n",
    "    df_listings[col] = df_listings[col].fillna(0)\n",
    "    \n",
    "# Dropping square_feet and licence columns\n",
    "df_listings = df_listings.drop('square_feet',axis=1)\n",
    "df_listings = df_listings.drop('license',axis=1)"
   ]
  },
  {
   "cell_type": "code",
   "execution_count": 30,
   "id": "c43790b7",
   "metadata": {},
   "outputs": [
    {
     "name": "stdout",
     "output_type": "stream",
     "text": [
      "<class 'pandas.core.frame.DataFrame'>\n",
      "Int64Index: 3817 entries, 0 to 3817\n",
      "Data columns (total 60 columns):\n",
      " #   Column                            Non-Null Count  Dtype  \n",
      "---  ------                            --------------  -----  \n",
      " 0   name                              3817 non-null   object \n",
      " 1   summary                           3640 non-null   object \n",
      " 2   space                             3248 non-null   object \n",
      " 3   description                       3817 non-null   object \n",
      " 4   neighborhood_overview             2785 non-null   object \n",
      " 5   notes                             2211 non-null   object \n",
      " 6   transit                           2883 non-null   object \n",
      " 7   picture_url                       3817 non-null   object \n",
      " 8   host_name                         3815 non-null   object \n",
      " 9   host_since                        3815 non-null   object \n",
      " 10  host_location                     3809 non-null   object \n",
      " 11  host_about                        2958 non-null   object \n",
      " 12  host_response_time                3817 non-null   object \n",
      " 13  host_response_rate                3817 non-null   float64\n",
      " 14  host_acceptance_rate              3817 non-null   object \n",
      " 15  host_is_superhost                 3815 non-null   object \n",
      " 16  host_picture_url                  3815 non-null   object \n",
      " 17  host_neighbourhood                3517 non-null   object \n",
      " 18  host_listings_count               3817 non-null   float64\n",
      " 19  host_total_listings_count         3817 non-null   float64\n",
      " 20  host_has_profile_pic              3815 non-null   object \n",
      " 21  host_identity_verified            3815 non-null   object \n",
      " 22  neighbourhood_cleansed            3817 non-null   object \n",
      " 23  city                              3817 non-null   object \n",
      " 24  state                             3817 non-null   object \n",
      " 25  country_code                      3817 non-null   object \n",
      " 26  is_location_exact                 3817 non-null   object \n",
      " 27  property_type                     3817 non-null   object \n",
      " 28  room_type                         3817 non-null   object \n",
      " 29  accommodates                      3817 non-null   int64  \n",
      " 30  bathrooms                         3817 non-null   float64\n",
      " 31  bedrooms                          3817 non-null   float64\n",
      " 32  beds                              3817 non-null   float64\n",
      " 33  bed_type                          3817 non-null   object \n",
      " 34  amenities                         3817 non-null   object \n",
      " 35  price                             3817 non-null   float64\n",
      " 36  security_deposit                  3817 non-null   float64\n",
      " 37  cleaning_fee                      3817 non-null   float64\n",
      " 38  guests_included                   3817 non-null   int64  \n",
      " 39  extra_people                      3817 non-null   float64\n",
      " 40  minimum_nights                    3817 non-null   int64  \n",
      " 41  maximum_nights                    3817 non-null   int64  \n",
      " 42  has_availability                  3817 non-null   object \n",
      " 43  availability_30                   3817 non-null   int64  \n",
      " 44  availability_60                   3817 non-null   int64  \n",
      " 45  availability_90                   3817 non-null   int64  \n",
      " 46  availability_365                  3817 non-null   int64  \n",
      " 47  number_of_reviews                 3817 non-null   int64  \n",
      " 48  review_scores_rating              3817 non-null   float64\n",
      " 49  review_scores_accuracy            3817 non-null   float64\n",
      " 50  review_scores_cleanliness         3817 non-null   float64\n",
      " 51  review_scores_checkin             3817 non-null   float64\n",
      " 52  review_scores_communication       3817 non-null   float64\n",
      " 53  review_scores_location            3817 non-null   float64\n",
      " 54  review_scores_value               3817 non-null   float64\n",
      " 55  requires_license                  3817 non-null   object \n",
      " 56  instant_bookable                  3817 non-null   object \n",
      " 57  cancellation_policy               3817 non-null   object \n",
      " 58  require_guest_profile_picture     3817 non-null   object \n",
      " 59  require_guest_phone_verification  3817 non-null   object \n",
      "dtypes: float64(17), int64(9), object(34)\n",
      "memory usage: 1.8+ MB\n"
     ]
    }
   ],
   "source": [
    "df_listings.info()"
   ]
  },
  {
   "cell_type": "code",
   "execution_count": 31,
   "id": "79ed95b7",
   "metadata": {},
   "outputs": [],
   "source": [
    "# Changing the rows with text to boolean\n",
    "def change_text(textdata):\n",
    "    if textdata:\n",
    "        return 1\n",
    "    else:\n",
    "        return 0\n",
    "    \n",
    "rows_with_text = ['summary','space','neighborhood_overview','notes','transit','name','description','picture_url','host_name','host_since','host_location','host_about','host_picture_url','host_neighbourhood']\n",
    "for t in rows_with_text:\n",
    "    df_listings[t] = df_listings[t].apply(change_text)"
   ]
  },
  {
   "cell_type": "code",
   "execution_count": 32,
   "id": "a99cf889",
   "metadata": {},
   "outputs": [],
   "source": [
    "# Changing True and False to 1 and 0\n",
    "def change_tf(tfdata):\n",
    "    if tfdata == 't':\n",
    "        return 1\n",
    "    else:\n",
    "        return 0\n",
    "    \n",
    "rows_with_tf = ['host_is_superhost','host_has_profile_pic','host_identity_verified','is_location_exact','has_availability','requires_license','instant_bookable','require_guest_profile_picture','require_guest_phone_verification']\n",
    "for t in rows_with_tf:\n",
    "    df_listings[t] = df_listings[t].apply(change_tf)"
   ]
  },
  {
   "cell_type": "code",
   "execution_count": 34,
   "id": "4b697a3d",
   "metadata": {
    "scrolled": true
   },
   "outputs": [
    {
     "name": "stdout",
     "output_type": "stream",
     "text": [
      "<class 'pandas.core.frame.DataFrame'>\n",
      "Int64Index: 3817 entries, 0 to 3817\n",
      "Data columns (total 60 columns):\n",
      " #   Column                            Non-Null Count  Dtype  \n",
      "---  ------                            --------------  -----  \n",
      " 0   name                              3817 non-null   int64  \n",
      " 1   summary                           3817 non-null   int64  \n",
      " 2   space                             3817 non-null   int64  \n",
      " 3   description                       3817 non-null   int64  \n",
      " 4   neighborhood_overview             3817 non-null   int64  \n",
      " 5   notes                             3817 non-null   int64  \n",
      " 6   transit                           3817 non-null   int64  \n",
      " 7   picture_url                       3817 non-null   int64  \n",
      " 8   host_name                         3817 non-null   int64  \n",
      " 9   host_since                        3817 non-null   int64  \n",
      " 10  host_location                     3817 non-null   int64  \n",
      " 11  host_about                        3817 non-null   int64  \n",
      " 12  host_response_time                3817 non-null   object \n",
      " 13  host_response_rate                3817 non-null   float64\n",
      " 14  host_acceptance_rate              3817 non-null   object \n",
      " 15  host_is_superhost                 3817 non-null   int64  \n",
      " 16  host_picture_url                  3817 non-null   int64  \n",
      " 17  host_neighbourhood                3817 non-null   int64  \n",
      " 18  host_listings_count               3817 non-null   float64\n",
      " 19  host_total_listings_count         3817 non-null   float64\n",
      " 20  host_has_profile_pic              3817 non-null   int64  \n",
      " 21  host_identity_verified            3817 non-null   int64  \n",
      " 22  neighbourhood_cleansed            3817 non-null   object \n",
      " 23  city                              3817 non-null   object \n",
      " 24  state                             3817 non-null   object \n",
      " 25  country_code                      3817 non-null   object \n",
      " 26  is_location_exact                 3817 non-null   int64  \n",
      " 27  property_type                     3817 non-null   object \n",
      " 28  room_type                         3817 non-null   object \n",
      " 29  accommodates                      3817 non-null   int64  \n",
      " 30  bathrooms                         3817 non-null   float64\n",
      " 31  bedrooms                          3817 non-null   float64\n",
      " 32  beds                              3817 non-null   float64\n",
      " 33  bed_type                          3817 non-null   object \n",
      " 34  amenities                         3817 non-null   object \n",
      " 35  price                             3817 non-null   float64\n",
      " 36  security_deposit                  3817 non-null   float64\n",
      " 37  cleaning_fee                      3817 non-null   float64\n",
      " 38  guests_included                   3817 non-null   int64  \n",
      " 39  extra_people                      3817 non-null   float64\n",
      " 40  minimum_nights                    3817 non-null   int64  \n",
      " 41  maximum_nights                    3817 non-null   int64  \n",
      " 42  has_availability                  3817 non-null   int64  \n",
      " 43  availability_30                   3817 non-null   int64  \n",
      " 44  availability_60                   3817 non-null   int64  \n",
      " 45  availability_90                   3817 non-null   int64  \n",
      " 46  availability_365                  3817 non-null   int64  \n",
      " 47  number_of_reviews                 3817 non-null   int64  \n",
      " 48  review_scores_rating              3817 non-null   float64\n",
      " 49  review_scores_accuracy            3817 non-null   float64\n",
      " 50  review_scores_cleanliness         3817 non-null   float64\n",
      " 51  review_scores_checkin             3817 non-null   float64\n",
      " 52  review_scores_communication       3817 non-null   float64\n",
      " 53  review_scores_location            3817 non-null   float64\n",
      " 54  review_scores_value               3817 non-null   float64\n",
      " 55  requires_license                  3817 non-null   int64  \n",
      " 56  instant_bookable                  3817 non-null   int64  \n",
      " 57  cancellation_policy               3817 non-null   object \n",
      " 58  require_guest_profile_picture     3817 non-null   int64  \n",
      " 59  require_guest_phone_verification  3817 non-null   int64  \n",
      "dtypes: float64(17), int64(32), object(11)\n",
      "memory usage: 1.8+ MB\n"
     ]
    }
   ],
   "source": [
    "df_listings.info()"
   ]
  },
  {
   "cell_type": "code",
   "execution_count": 34,
   "id": "b1beb4c4",
   "metadata": {},
   "outputs": [
    {
     "data": {
      "text/plain": [
       "[('Wireless Internet', 3666),\n",
       " ('Heating', 3626),\n",
       " ('Kitchen', 3422),\n",
       " ('Smoke Detector', 3280),\n",
       " ('Essentials', 3237),\n",
       " ('Dryer', 2996),\n",
       " ('Washer', 2991),\n",
       " ('Internet', 2811),\n",
       " ('Shampoo', 2670),\n",
       " ('TV', 2574),\n",
       " ('Carbon Monoxide Detector', 2485),\n",
       " ('Fire Extinguisher', 2196),\n",
       " ('Free Parking on Premises', 2166),\n",
       " ('Family/Kid Friendly', 1962),\n",
       " ('First Aid Kit', 1679),\n",
       " ('Cable TV', 1446),\n",
       " ('Indoor Fireplace', 885),\n",
       " ('Pets live on this property', 882),\n",
       " ('Hangers', 846),\n",
       " ('Elevator in Building', 785),\n",
       " ('Hair Dryer', 774),\n",
       " ('Laptop Friendly Workspace', 745),\n",
       " ('Iron', 742),\n",
       " ('Safety Card', 727),\n",
       " ('Air Conditioning', 677),\n",
       " ('24-Hour Check-in', 616),\n",
       " ('Buzzer/Wireless Intercom', 538),\n",
       " ('Dog(s)', 508),\n",
       " ('Pets Allowed', 472),\n",
       " ('Gym', 442),\n",
       " ('Cat(s)', 382),\n",
       " ('Hot Tub', 303),\n",
       " ('Wheelchair Accessible', 300),\n",
       " ('Breakfast', 291),\n",
       " ('Suitable for Events', 209),\n",
       " ('Pool', 159),\n",
       " ('Lock on Bedroom Door', 100),\n",
       " ('Doorman', 85),\n",
       " ('Smoking Allowed', 82),\n",
       " ('Other pet(s)', 50),\n",
       " ('', 45),\n",
       " ('Washer / Dryer', 2)]"
      ]
     },
     "execution_count": 34,
     "metadata": {},
     "output_type": "execute_result"
    }
   ],
   "source": [
    "# Assessing the most common amenities\n",
    "amenities = []\n",
    "for index, row in df_listings.iterrows():\n",
    "    row['amenities'] = row['amenities'].replace('{','')\n",
    "    row['amenities'] = row['amenities'].replace('}','')\n",
    "    row['amenities'] = row['amenities'].replace('\"','')\n",
    "    mylist = row['amenities'].split(',')\n",
    "    for l in mylist:\n",
    "        amenities.append(l)\n",
    "    \n",
    "amenities_count = Counter(amenities)\n",
    "amenities_count.most_common()"
   ]
  },
  {
   "cell_type": "code",
   "execution_count": 35,
   "id": "96d4338a",
   "metadata": {},
   "outputs": [],
   "source": [
    "amenities_col =['amenities_wireless_internet|Wireless Internet','amenities_heating|Heating','amenities_kitchen|Kitchen','amenities_smoke_detector|Smoke Detector','amenities_essentials|Essentials','amenities_dryer|Dryer','amenities_washer|Washer','amenities_internet|Internet','amenities_shampoo|Shampoo','amenities_tv|TV','amenities_carbon_monoxide_detector|Carbon Monoxide Detector','amenities_fire_extinguisher|Fire Extinguisher','amenities_free_parking|Free Parking on Premises']\n",
    "for c in amenities_col:\n",
    "    c_colname,c_desc = c.split('|')\n",
    "    df_listings[c_colname] = df_listings['amenities'].apply(lambda x: 1 if c_desc in x else 0)"
   ]
  },
  {
   "cell_type": "code",
   "execution_count": 36,
   "id": "46892e97",
   "metadata": {},
   "outputs": [],
   "source": [
    "# Dropping the original amenities column\n",
    "df_listings = df_listings.drop('amenities', axis = 1)"
   ]
  },
  {
   "cell_type": "code",
   "execution_count": 37,
   "id": "5501ba63",
   "metadata": {},
   "outputs": [
    {
     "data": {
      "text/plain": [
       "Index(['host_response_time', 'host_acceptance_rate', 'neighbourhood_cleansed',\n",
       "       'city', 'state', 'country_code', 'property_type', 'room_type',\n",
       "       'bed_type', 'cancellation_policy'],\n",
       "      dtype='object')"
      ]
     },
     "execution_count": 37,
     "metadata": {},
     "output_type": "execute_result"
    }
   ],
   "source": [
    "# Checking the rest of the object columns\n",
    "df_listings.select_dtypes(include=['object']).columns"
   ]
  },
  {
   "cell_type": "code",
   "execution_count": 38,
   "id": "1e80e88f",
   "metadata": {},
   "outputs": [
    {
     "data": {
      "text/html": [
       "<div>\n",
       "<style scoped>\n",
       "    .dataframe tbody tr th:only-of-type {\n",
       "        vertical-align: middle;\n",
       "    }\n",
       "\n",
       "    .dataframe tbody tr th {\n",
       "        vertical-align: top;\n",
       "    }\n",
       "\n",
       "    .dataframe thead th {\n",
       "        text-align: right;\n",
       "    }\n",
       "</style>\n",
       "<table border=\"1\" class=\"dataframe\">\n",
       "  <thead>\n",
       "    <tr style=\"text-align: right;\">\n",
       "      <th></th>\n",
       "      <th>name</th>\n",
       "      <th>summary</th>\n",
       "      <th>space</th>\n",
       "      <th>description</th>\n",
       "      <th>neighborhood_overview</th>\n",
       "      <th>notes</th>\n",
       "      <th>transit</th>\n",
       "      <th>picture_url</th>\n",
       "      <th>host_name</th>\n",
       "      <th>host_since</th>\n",
       "      <th>...</th>\n",
       "      <th>room_type_Private room</th>\n",
       "      <th>room_type_Shared room</th>\n",
       "      <th>bed_type_Airbed</th>\n",
       "      <th>bed_type_Couch</th>\n",
       "      <th>bed_type_Futon</th>\n",
       "      <th>bed_type_Pull-out Sofa</th>\n",
       "      <th>bed_type_Real Bed</th>\n",
       "      <th>cancellation_policy_flexible</th>\n",
       "      <th>cancellation_policy_moderate</th>\n",
       "      <th>cancellation_policy_strict</th>\n",
       "    </tr>\n",
       "  </thead>\n",
       "  <tbody>\n",
       "    <tr>\n",
       "      <th>0</th>\n",
       "      <td>1</td>\n",
       "      <td>1</td>\n",
       "      <td>1</td>\n",
       "      <td>1</td>\n",
       "      <td>1</td>\n",
       "      <td>1</td>\n",
       "      <td>1</td>\n",
       "      <td>1</td>\n",
       "      <td>1</td>\n",
       "      <td>1</td>\n",
       "      <td>...</td>\n",
       "      <td>0</td>\n",
       "      <td>0</td>\n",
       "      <td>0</td>\n",
       "      <td>0</td>\n",
       "      <td>0</td>\n",
       "      <td>0</td>\n",
       "      <td>1</td>\n",
       "      <td>0</td>\n",
       "      <td>1</td>\n",
       "      <td>0</td>\n",
       "    </tr>\n",
       "    <tr>\n",
       "      <th>1</th>\n",
       "      <td>1</td>\n",
       "      <td>1</td>\n",
       "      <td>1</td>\n",
       "      <td>1</td>\n",
       "      <td>1</td>\n",
       "      <td>1</td>\n",
       "      <td>1</td>\n",
       "      <td>1</td>\n",
       "      <td>1</td>\n",
       "      <td>1</td>\n",
       "      <td>...</td>\n",
       "      <td>0</td>\n",
       "      <td>0</td>\n",
       "      <td>0</td>\n",
       "      <td>0</td>\n",
       "      <td>0</td>\n",
       "      <td>0</td>\n",
       "      <td>1</td>\n",
       "      <td>0</td>\n",
       "      <td>0</td>\n",
       "      <td>1</td>\n",
       "    </tr>\n",
       "    <tr>\n",
       "      <th>2</th>\n",
       "      <td>1</td>\n",
       "      <td>1</td>\n",
       "      <td>1</td>\n",
       "      <td>1</td>\n",
       "      <td>1</td>\n",
       "      <td>1</td>\n",
       "      <td>1</td>\n",
       "      <td>1</td>\n",
       "      <td>1</td>\n",
       "      <td>1</td>\n",
       "      <td>...</td>\n",
       "      <td>0</td>\n",
       "      <td>0</td>\n",
       "      <td>0</td>\n",
       "      <td>0</td>\n",
       "      <td>0</td>\n",
       "      <td>0</td>\n",
       "      <td>1</td>\n",
       "      <td>0</td>\n",
       "      <td>0</td>\n",
       "      <td>1</td>\n",
       "    </tr>\n",
       "    <tr>\n",
       "      <th>3</th>\n",
       "      <td>1</td>\n",
       "      <td>1</td>\n",
       "      <td>1</td>\n",
       "      <td>1</td>\n",
       "      <td>1</td>\n",
       "      <td>1</td>\n",
       "      <td>1</td>\n",
       "      <td>1</td>\n",
       "      <td>1</td>\n",
       "      <td>1</td>\n",
       "      <td>...</td>\n",
       "      <td>0</td>\n",
       "      <td>0</td>\n",
       "      <td>0</td>\n",
       "      <td>0</td>\n",
       "      <td>0</td>\n",
       "      <td>0</td>\n",
       "      <td>1</td>\n",
       "      <td>1</td>\n",
       "      <td>0</td>\n",
       "      <td>0</td>\n",
       "    </tr>\n",
       "    <tr>\n",
       "      <th>4</th>\n",
       "      <td>1</td>\n",
       "      <td>1</td>\n",
       "      <td>1</td>\n",
       "      <td>1</td>\n",
       "      <td>1</td>\n",
       "      <td>1</td>\n",
       "      <td>1</td>\n",
       "      <td>1</td>\n",
       "      <td>1</td>\n",
       "      <td>1</td>\n",
       "      <td>...</td>\n",
       "      <td>0</td>\n",
       "      <td>0</td>\n",
       "      <td>0</td>\n",
       "      <td>0</td>\n",
       "      <td>0</td>\n",
       "      <td>0</td>\n",
       "      <td>1</td>\n",
       "      <td>0</td>\n",
       "      <td>0</td>\n",
       "      <td>1</td>\n",
       "    </tr>\n",
       "  </tbody>\n",
       "</table>\n",
       "<p>5 rows × 191 columns</p>\n",
       "</div>"
      ],
      "text/plain": [
       "   name  summary  space  description  neighborhood_overview  notes  transit  \\\n",
       "0     1        1      1            1                      1      1        1   \n",
       "1     1        1      1            1                      1      1        1   \n",
       "2     1        1      1            1                      1      1        1   \n",
       "3     1        1      1            1                      1      1        1   \n",
       "4     1        1      1            1                      1      1        1   \n",
       "\n",
       "   picture_url  host_name  host_since  ...  room_type_Private room  \\\n",
       "0            1          1           1  ...                       0   \n",
       "1            1          1           1  ...                       0   \n",
       "2            1          1           1  ...                       0   \n",
       "3            1          1           1  ...                       0   \n",
       "4            1          1           1  ...                       0   \n",
       "\n",
       "   room_type_Shared room  bed_type_Airbed  bed_type_Couch  bed_type_Futon  \\\n",
       "0                      0                0               0               0   \n",
       "1                      0                0               0               0   \n",
       "2                      0                0               0               0   \n",
       "3                      0                0               0               0   \n",
       "4                      0                0               0               0   \n",
       "\n",
       "   bed_type_Pull-out Sofa  bed_type_Real Bed  cancellation_policy_flexible  \\\n",
       "0                       0                  1                             0   \n",
       "1                       0                  1                             0   \n",
       "2                       0                  1                             0   \n",
       "3                       0                  1                             1   \n",
       "4                       0                  1                             0   \n",
       "\n",
       "   cancellation_policy_moderate  cancellation_policy_strict  \n",
       "0                             1                           0  \n",
       "1                             0                           1  \n",
       "2                             0                           1  \n",
       "3                             0                           0  \n",
       "4                             0                           1  \n",
       "\n",
       "[5 rows x 191 columns]"
      ]
     },
     "execution_count": 38,
     "metadata": {},
     "output_type": "execute_result"
    }
   ],
   "source": [
    "# Assigning Dummies for categorical fields\n",
    "cat_values = df_listings.select_dtypes(include=['object']).columns\n",
    "\n",
    "df_listings = pd.get_dummies(df_listings, columns=cat_values)\n",
    "df_listings.head()"
   ]
  },
  {
   "cell_type": "code",
   "execution_count": 39,
   "id": "bc475ec1",
   "metadata": {},
   "outputs": [
    {
     "name": "stdout",
     "output_type": "stream",
     "text": [
      "(2671, 190) (2671,)\n",
      "(1146, 190) (1146,)\n"
     ]
    }
   ],
   "source": [
    "#Split into explanatory and response variables\n",
    "X = df_listings.drop(['price'], axis=1)\n",
    "y = df_listings['price']\n",
    "\n",
    "#Split into train and test\n",
    "X_train, X_test, y_train, y_test = train_test_split(X, y, test_size = .30, random_state=42) \n",
    "\n",
    "\n",
    "print(X_train.shape, y_train.shape)\n",
    "print(X_test.shape, y_test.shape)"
   ]
  },
  {
   "cell_type": "code",
   "execution_count": 40,
   "id": "3e56bc6f",
   "metadata": {},
   "outputs": [
    {
     "name": "stdout",
     "output_type": "stream",
     "text": [
      "The rsquared score on the training data was 0.5841631054574172.  The rsquared score on the test data was 0.5890943853591561.\n"
     ]
    },
    {
     "name": "stderr",
     "output_type": "stream",
     "text": [
      "/Users/tugcesahin/opt/anaconda3/lib/python3.9/site-packages/sklearn/linear_model/_base.py:141: FutureWarning: 'normalize' was deprecated in version 1.0 and will be removed in 1.2.\n",
      "If you wish to scale the data, use Pipeline with a StandardScaler in a preprocessing stage. To reproduce the previous behavior:\n",
      "\n",
      "from sklearn.pipeline import make_pipeline\n",
      "\n",
      "model = make_pipeline(StandardScaler(with_mean=False), LinearRegression())\n",
      "\n",
      "If you wish to pass a sample_weight parameter, you need to pass it as a fit parameter to each step of the pipeline as follows:\n",
      "\n",
      "kwargs = {s[0] + '__sample_weight': sample_weight for s in model.steps}\n",
      "model.fit(X, y, **kwargs)\n",
      "\n",
      "\n",
      "  warnings.warn(\n"
     ]
    }
   ],
   "source": [
    "# Instantiate\n",
    "lm_model = LinearRegression(normalize=True)\n",
    "\n",
    "#Fit\n",
    "lm_model.fit(X_train, y_train) \n",
    "\n",
    "# Predict and score the model\n",
    "y_train_preds = lm_model.predict(X_train)\n",
    "y_test_preds = lm_model.predict(X_test)\n",
    "y_test_preds = lm_model.predict(X_test) \n",
    "train_score = r2_score(y_train, y_train_preds)\n",
    "test_score = r2_score(y_test,y_test_preds)\n",
    "\n",
    "print(\"The rsquared score on the training data was {}.  The rsquared score on the test data was {}.\".format(train_score, test_score))"
   ]
  },
  {
   "cell_type": "markdown",
   "id": "dad1f265",
   "metadata": {},
   "source": [
    "## Evaluation"
   ]
  },
  {
   "cell_type": "code",
   "execution_count": 41,
   "id": "9c0585e2",
   "metadata": {},
   "outputs": [
    {
     "data": {
      "text/html": [
       "<div>\n",
       "<style scoped>\n",
       "    .dataframe tbody tr th:only-of-type {\n",
       "        vertical-align: middle;\n",
       "    }\n",
       "\n",
       "    .dataframe tbody tr th {\n",
       "        vertical-align: top;\n",
       "    }\n",
       "\n",
       "    .dataframe thead th {\n",
       "        text-align: right;\n",
       "    }\n",
       "</style>\n",
       "<table border=\"1\" class=\"dataframe\">\n",
       "  <thead>\n",
       "    <tr style=\"text-align: right;\">\n",
       "      <th></th>\n",
       "      <th>est_int</th>\n",
       "      <th>coefs</th>\n",
       "      <th>abs_coefs</th>\n",
       "    </tr>\n",
       "  </thead>\n",
       "  <tbody>\n",
       "    <tr>\n",
       "      <th>8</th>\n",
       "      <td>host_name</td>\n",
       "      <td>3.414669e+16</td>\n",
       "      <td>3.414669e+16</td>\n",
       "    </tr>\n",
       "    <tr>\n",
       "      <th>3</th>\n",
       "      <td>description</td>\n",
       "      <td>-3.009898e+16</td>\n",
       "      <td>3.009898e+16</td>\n",
       "    </tr>\n",
       "    <tr>\n",
       "      <th>9</th>\n",
       "      <td>host_since</td>\n",
       "      <td>2.846420e+16</td>\n",
       "      <td>2.846420e+16</td>\n",
       "    </tr>\n",
       "    <tr>\n",
       "      <th>4</th>\n",
       "      <td>neighborhood_overview</td>\n",
       "      <td>2.537701e+16</td>\n",
       "      <td>2.537701e+16</td>\n",
       "    </tr>\n",
       "    <tr>\n",
       "      <th>14</th>\n",
       "      <td>host_picture_url</td>\n",
       "      <td>-2.474048e+16</td>\n",
       "      <td>2.474048e+16</td>\n",
       "    </tr>\n",
       "    <tr>\n",
       "      <th>159</th>\n",
       "      <td>city_west seattle</td>\n",
       "      <td>-1.752448e+16</td>\n",
       "      <td>1.752448e+16</td>\n",
       "    </tr>\n",
       "    <tr>\n",
       "      <th>156</th>\n",
       "      <td>city_ballard, seattle</td>\n",
       "      <td>-1.752448e+16</td>\n",
       "      <td>1.752448e+16</td>\n",
       "    </tr>\n",
       "    <tr>\n",
       "      <th>158</th>\n",
       "      <td>city_seattle</td>\n",
       "      <td>-1.752448e+16</td>\n",
       "      <td>1.752448e+16</td>\n",
       "    </tr>\n",
       "    <tr>\n",
       "      <th>160</th>\n",
       "      <td>city_西雅图</td>\n",
       "      <td>-1.752448e+16</td>\n",
       "      <td>1.752448e+16</td>\n",
       "    </tr>\n",
       "    <tr>\n",
       "      <th>157</th>\n",
       "      <td>city_phinney ridge seattle</td>\n",
       "      <td>-1.752448e+16</td>\n",
       "      <td>1.752448e+16</td>\n",
       "    </tr>\n",
       "    <tr>\n",
       "      <th>11</th>\n",
       "      <td>host_about</td>\n",
       "      <td>-1.242939e+16</td>\n",
       "      <td>1.242939e+16</td>\n",
       "    </tr>\n",
       "    <tr>\n",
       "      <th>6</th>\n",
       "      <td>transit</td>\n",
       "      <td>1.102275e+16</td>\n",
       "      <td>1.102275e+16</td>\n",
       "    </tr>\n",
       "    <tr>\n",
       "      <th>10</th>\n",
       "      <td>host_location</td>\n",
       "      <td>8.342413e+15</td>\n",
       "      <td>8.342413e+15</td>\n",
       "    </tr>\n",
       "    <tr>\n",
       "      <th>2</th>\n",
       "      <td>space</td>\n",
       "      <td>-7.573990e+15</td>\n",
       "      <td>7.573990e+15</td>\n",
       "    </tr>\n",
       "    <tr>\n",
       "      <th>7</th>\n",
       "      <td>picture_url</td>\n",
       "      <td>5.415200e+15</td>\n",
       "      <td>5.415200e+15</td>\n",
       "    </tr>\n",
       "    <tr>\n",
       "      <th>1</th>\n",
       "      <td>summary</td>\n",
       "      <td>-4.307434e+15</td>\n",
       "      <td>4.307434e+15</td>\n",
       "    </tr>\n",
       "    <tr>\n",
       "      <th>5</th>\n",
       "      <td>notes</td>\n",
       "      <td>3.666806e+15</td>\n",
       "      <td>3.666806e+15</td>\n",
       "    </tr>\n",
       "    <tr>\n",
       "      <th>15</th>\n",
       "      <td>host_neighbourhood</td>\n",
       "      <td>-3.221983e+15</td>\n",
       "      <td>3.221983e+15</td>\n",
       "    </tr>\n",
       "    <tr>\n",
       "      <th>161</th>\n",
       "      <td>state_wa</td>\n",
       "      <td>2.868362e+15</td>\n",
       "      <td>2.868362e+15</td>\n",
       "    </tr>\n",
       "    <tr>\n",
       "      <th>31</th>\n",
       "      <td>has_availability</td>\n",
       "      <td>2.864587e+15</td>\n",
       "      <td>2.864587e+15</td>\n",
       "    </tr>\n",
       "  </tbody>\n",
       "</table>\n",
       "</div>"
      ],
      "text/plain": [
       "                        est_int         coefs     abs_coefs\n",
       "8                     host_name  3.414669e+16  3.414669e+16\n",
       "3                   description -3.009898e+16  3.009898e+16\n",
       "9                    host_since  2.846420e+16  2.846420e+16\n",
       "4         neighborhood_overview  2.537701e+16  2.537701e+16\n",
       "14             host_picture_url -2.474048e+16  2.474048e+16\n",
       "159           city_west seattle -1.752448e+16  1.752448e+16\n",
       "156       city_ballard, seattle -1.752448e+16  1.752448e+16\n",
       "158                city_seattle -1.752448e+16  1.752448e+16\n",
       "160                    city_西雅图 -1.752448e+16  1.752448e+16\n",
       "157  city_phinney ridge seattle -1.752448e+16  1.752448e+16\n",
       "11                   host_about -1.242939e+16  1.242939e+16\n",
       "6                       transit  1.102275e+16  1.102275e+16\n",
       "10                host_location  8.342413e+15  8.342413e+15\n",
       "2                         space -7.573990e+15  7.573990e+15\n",
       "7                   picture_url  5.415200e+15  5.415200e+15\n",
       "1                       summary -4.307434e+15  4.307434e+15\n",
       "5                         notes  3.666806e+15  3.666806e+15\n",
       "15           host_neighbourhood -3.221983e+15  3.221983e+15\n",
       "161                    state_wa  2.868362e+15  2.868362e+15\n",
       "31             has_availability  2.864587e+15  2.864587e+15"
      ]
     },
     "execution_count": 41,
     "metadata": {},
     "output_type": "execute_result"
    }
   ],
   "source": [
    "def coef_weights(coefficients, X_train):\n",
    "    '''\n",
    "    INPUT:\n",
    "    coefficients - the coefficients of the linear model \n",
    "    X_train - the training data, so the column names can be used\n",
    "    OUTPUT:\n",
    "    coefs_df - a dataframe holding the coefficient, estimate, and abs(estimate)\n",
    "    \n",
    "    Provides a dataframe that can be used to understand the most influential coefficients\n",
    "    in a linear model by providing the coefficient estimates along with the name of the \n",
    "    variable attached to the coefficient.\n",
    "    '''\n",
    "    coefs_df = pd.DataFrame()\n",
    "    coefs_df['est_int'] = X_train.columns\n",
    "    coefs_df['coefs'] = lm_model.coef_\n",
    "    coefs_df['abs_coefs'] = np.abs(lm_model.coef_)\n",
    "    coefs_df = coefs_df.sort_values('abs_coefs', ascending=False)\n",
    "    return coefs_df\n",
    "\n",
    "#Use the function\n",
    "coef_df = coef_weights(lm_model.coef_, X_train)\n",
    "\n",
    "#A quick look at the top 20 results\n",
    "coef_df.head(20)"
   ]
  },
  {
   "cell_type": "code",
   "execution_count": null,
   "id": "d11e52ed",
   "metadata": {},
   "outputs": [],
   "source": []
  }
 ],
 "metadata": {
  "kernelspec": {
   "display_name": "Python 3 (ipykernel)",
   "language": "python",
   "name": "python3"
  },
  "language_info": {
   "codemirror_mode": {
    "name": "ipython",
    "version": 3
   },
   "file_extension": ".py",
   "mimetype": "text/x-python",
   "name": "python",
   "nbconvert_exporter": "python",
   "pygments_lexer": "ipython3",
   "version": "3.9.7"
  }
 },
 "nbformat": 4,
 "nbformat_minor": 5
}
